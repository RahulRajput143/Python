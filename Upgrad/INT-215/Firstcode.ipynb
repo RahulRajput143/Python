{
 "cells": [
  {
   "cell_type": "code",
   "execution_count": 1,
   "metadata": {},
   "outputs": [
    {
     "name": "stdout",
     "output_type": "stream",
     "text": [
      "My name is rahul\n"
     ]
    }
   ],
   "source": [
    "print(\"My name is rahul\")"
   ]
  },
  {
   "cell_type": "code",
   "execution_count": 2,
   "metadata": {},
   "outputs": [],
   "source": [
    "rahul=\"HelloVai\"\n"
   ]
  },
  {
   "cell_type": "code",
   "execution_count": 7,
   "metadata": {},
   "outputs": [
    {
     "name": "stdout",
     "output_type": "stream",
     "text": [
      "      Name  Age\n",
      "0    Alice   20\n",
      "1      Bob   18\n",
      "2  Charlie   19\n",
      "3    David   21\n",
      "4      Eve   22\n",
      "5    Frank   20\n"
     ]
    }
   ],
   "source": [
    "\n",
    "import pandas as pd\n",
    "\n",
    "data1 = {\"Name\": [\"Alice\", \"Bob\", \"Charlie\"],\n",
    "         \"Age\": [20, 18, 19]}\n",
    "df1 = pd.DataFrame(data1)\n",
    "\n",
    "data2 = {\"Name\": [\"David\", \"Eve\", \"Frank\"],\n",
    "         \"Age\": [21, 22, 20]}\n",
    "df2 = pd.DataFrame(data2)\n",
    "\n",
    "appended_df = pd.concat([df1, df2], ignore_index=True)\n",
    "\n",
    "print(appended_df)"
   ]
  }
 ],
 "metadata": {
  "kernelspec": {
   "display_name": "Python 3",
   "language": "python",
   "name": "python3"
  },
  "language_info": {
   "codemirror_mode": {
    "name": "ipython",
    "version": 3
   },
   "file_extension": ".py",
   "mimetype": "text/x-python",
   "name": "python",
   "nbconvert_exporter": "python",
   "pygments_lexer": "ipython3",
   "version": "3.9.13"
  },
  "orig_nbformat": 4
 },
 "nbformat": 4,
 "nbformat_minor": 2
}
