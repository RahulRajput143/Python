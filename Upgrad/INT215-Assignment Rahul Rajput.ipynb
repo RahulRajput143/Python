{
 "cells": [
  {
   "cell_type": "markdown",
   "id": "f5dd560b",
   "metadata": {},
   "source": [
    "<h1><center>PYTHON FOR MACHINE LEARNING (INT-215)</center></h1>\n",
    "<h1><center>CA-1</center></h1>\n",
    "<h1><center>Set-1</center></h1>"
   ]
  },
  {
   "cell_type": "markdown",
   "id": "5bc0dc94",
   "metadata": {},
   "source": [
    "### Q-1 You are given a list of numbers. Using NumPy, create an array of these numbers and calculate the\n",
    "### mean, median and standard deviation of the array. \n"
   ]
  },
  {
   "cell_type": "code",
   "execution_count": 1,
   "id": "23894654",
   "metadata": {},
   "outputs": [
    {
     "name": "stdout",
     "output_type": "stream",
     "text": [
      "Array: [1 2 3 4 5]\n",
      "Mean: 3.0\n",
      "Median: 3.0\n",
      "Standard deviation: 1.4142135623730951\n"
     ]
    }
   ],
   "source": [
    "import numpy as np\n",
    "\n",
    "numbers = [1, 2, 3, 4, 5]\n",
    "\n",
    "arr = np.array(numbers)\n",
    "\n",
    "# calculate the mean\n",
    "mean = np.mean(arr)\n",
    "\n",
    "# calculate the median\n",
    "median = np.median(arr)\n",
    "\n",
    "# calculate the standard deviation\n",
    "std_dev = np.std(arr)\n",
    "\n",
    "print(\"Array:\", arr)\n",
    "print(\"Mean:\", mean)\n",
    "print(\"Median:\", median)\n",
    "print(\"Standard deviation:\", std_dev)"
   ]
  },
  {
   "cell_type": "markdown",
   "id": "d94c22fe",
   "metadata": {},
   "source": [
    "### Q-2 You are given a 2D array of numbers. Using slicing and indexing operations, extract the values\n",
    "### from the second row and third column. "
   ]
  },
  {
   "cell_type": "code",
   "execution_count": 2,
   "id": "7cba5f6f",
   "metadata": {
    "scrolled": true
   },
   "outputs": [
    {
     "name": "stdout",
     "output_type": "stream",
     "text": [
      "Value: 6\n",
      "Value: 6\n",
      "Value: [[6]]\n"
     ]
    }
   ],
   "source": [
    "import numpy as np\n",
    "\n",
    "arr = np.array([[1, 2, 3], [4, 5, 6], [7, 8, 9]])\n",
    "\n",
    "# extract the value from the second row and third column\n",
    "value = arr[1][2] #Indexing\n",
    "value1=arr[1,2] #Indexing\n",
    "value2 = arr[1:2, 2:3] #Slicing\n",
    "\n",
    "print(\"Value:\", value)\n",
    "print(\"Value:\", value1)\n",
    "print(\"Value:\", value2)"
   ]
  },
  {
   "cell_type": "markdown",
   "id": "6f6b65a9",
   "metadata": {},
   "source": [
    "### Q-3 You have two arrays of equal length. Using NumPy, calculate the dot product of these arrays "
   ]
  },
  {
   "cell_type": "code",
   "execution_count": 3,
   "id": "e1542ce9",
   "metadata": {},
   "outputs": [
    {
     "name": "stdout",
     "output_type": "stream",
     "text": [
      "Dot product: 32\n"
     ]
    }
   ],
   "source": [
    "import numpy as np\n",
    "\n",
    "arr1 = np.array([1, 2, 3])\n",
    "arr2 = np.array([4, 5, 6])\n",
    "\n",
    "# calculate the dot product\n",
    "dot_product = np.dot(arr1, arr2)\n",
    "\n",
    "print(\"Dot product:\", dot_product)"
   ]
  },
  {
   "cell_type": "markdown",
   "id": "4443ef72",
   "metadata": {},
   "source": [
    "### Q-4 You have an array of shape (3, 4). Using NumPy, reshape it into an array of shape (2, 6). "
   ]
  },
  {
   "cell_type": "code",
   "execution_count": 4,
   "id": "ac1d95e4",
   "metadata": {},
   "outputs": [
    {
     "name": "stdout",
     "output_type": "stream",
     "text": [
      "Original array:\n",
      " [[ 1  2  3  4]\n",
      " [ 5  6  7  8]\n",
      " [ 9 10 11 12]]\n",
      "Reshaped array:\n",
      " [[ 1  2  3  4  5  6]\n",
      " [ 7  8  9 10 11 12]]\n"
     ]
    }
   ],
   "source": [
    "import numpy as np\n",
    "\n",
    "arr = np.array([[1, 2, 3, 4],\n",
    "                [5, 6, 7, 8],\n",
    "                [9, 10, 11, 12]])\n",
    "\n",
    "# reshape the array to shape (2, 6)\n",
    "new_arr = arr.reshape((2, 6))\n",
    "\n",
    "\n",
    "print(\"Original array:\\n\", arr)\n",
    "print(\"Reshaped array:\\n\", new_arr)"
   ]
  },
  {
   "cell_type": "markdown",
   "id": "3cc8ff98",
   "metadata": {},
   "source": [
    "### Q-5 You have two arrays of shape (2, 3) and (2, 4). Using NumPy, stack them horizontally and vertically respectively. \n"
   ]
  },
  {
   "cell_type": "code",
   "execution_count": 5,
   "id": "8d2294dd",
   "metadata": {
    "scrolled": true
   },
   "outputs": [
    {
     "name": "stdout",
     "output_type": "stream",
     "text": [
      "Array 1:\n",
      " [[1 2 3]\n",
      " [4 5 6]]\n",
      "Array 2:\n",
      " [[ 7  8  9 10]\n",
      " [11 12 13 14]]\n",
      "Horizontally stacked array:\n",
      " [[ 1  2  3  7  8  9 10]\n",
      " [ 4  5  6 11 12 13 14]]\n"
     ]
    }
   ],
   "source": [
    "import numpy as np\n",
    "\n",
    "arr1 = np.array([[1, 2, 3], [4, 5, 6]])\n",
    "arr2 = np.array([[7, 8, 9, 10], [11, 12, 13, 14]])\n",
    "\n",
    "# stack the arrays horizontally\n",
    "horizontal_stack = np.hstack((arr1, arr2))\n",
    "\n",
    "print(\"Array 1:\\n\", arr1)\n",
    "print(\"Array 2:\\n\", arr2)\n",
    "print(\"Horizontally stacked array:\\n\", horizontal_stack)\n"
   ]
  },
  {
   "cell_type": "code",
   "execution_count": 6,
   "id": "673ec3f6",
   "metadata": {
    "scrolled": false
   },
   "outputs": [
    {
     "ename": "ValueError",
     "evalue": "all the input array dimensions for the concatenation axis must match exactly, but along dimension 1, the array at index 0 has size 3 and the array at index 1 has size 4",
     "output_type": "error",
     "traceback": [
      "\u001b[1;31m---------------------------------------------------------------------------\u001b[0m",
      "\u001b[1;31mValueError\u001b[0m                                Traceback (most recent call last)",
      "\u001b[1;32m~\\AppData\\Local\\Temp\\ipykernel_9316\\4247438039.py\u001b[0m in \u001b[0;36m<module>\u001b[1;34m\u001b[0m\n\u001b[0;32m      1\u001b[0m \u001b[1;31m# stack the arrays vertically\u001b[0m\u001b[1;33m\u001b[0m\u001b[1;33m\u001b[0m\u001b[0m\n\u001b[1;32m----> 2\u001b[1;33m \u001b[0mvertical_stack\u001b[0m \u001b[1;33m=\u001b[0m \u001b[0mnp\u001b[0m\u001b[1;33m.\u001b[0m\u001b[0mvstack\u001b[0m\u001b[1;33m(\u001b[0m\u001b[1;33m(\u001b[0m\u001b[0marr1\u001b[0m\u001b[1;33m,\u001b[0m \u001b[0marr2\u001b[0m\u001b[1;33m)\u001b[0m\u001b[1;33m)\u001b[0m\u001b[1;33m\u001b[0m\u001b[1;33m\u001b[0m\u001b[0m\n\u001b[0m\u001b[0;32m      3\u001b[0m \u001b[0mprint\u001b[0m\u001b[1;33m(\u001b[0m\u001b[1;34m\"Array 1:\\n\"\u001b[0m\u001b[1;33m,\u001b[0m \u001b[0marr1\u001b[0m\u001b[1;33m)\u001b[0m\u001b[1;33m\u001b[0m\u001b[1;33m\u001b[0m\u001b[0m\n\u001b[0;32m      4\u001b[0m \u001b[0mprint\u001b[0m\u001b[1;33m(\u001b[0m\u001b[1;34m\"Array 2:\\n\"\u001b[0m\u001b[1;33m,\u001b[0m \u001b[0marr2\u001b[0m\u001b[1;33m)\u001b[0m\u001b[1;33m\u001b[0m\u001b[1;33m\u001b[0m\u001b[0m\n\u001b[0;32m      5\u001b[0m \u001b[0mprint\u001b[0m\u001b[1;33m(\u001b[0m\u001b[1;34m\"Vertically stacked array:\\n\"\u001b[0m\u001b[1;33m,\u001b[0m \u001b[0mvertical_stack\u001b[0m\u001b[1;33m)\u001b[0m\u001b[1;33m\u001b[0m\u001b[1;33m\u001b[0m\u001b[0m\n",
      "\u001b[1;32m<__array_function__ internals>\u001b[0m in \u001b[0;36mvstack\u001b[1;34m(*args, **kwargs)\u001b[0m\n",
      "\u001b[1;32mc:\\Users\\rahul\\anaconda3\\lib\\site-packages\\numpy\\core\\shape_base.py\u001b[0m in \u001b[0;36mvstack\u001b[1;34m(tup)\u001b[0m\n\u001b[0;32m    280\u001b[0m     \u001b[1;32mif\u001b[0m \u001b[1;32mnot\u001b[0m \u001b[0misinstance\u001b[0m\u001b[1;33m(\u001b[0m\u001b[0marrs\u001b[0m\u001b[1;33m,\u001b[0m \u001b[0mlist\u001b[0m\u001b[1;33m)\u001b[0m\u001b[1;33m:\u001b[0m\u001b[1;33m\u001b[0m\u001b[1;33m\u001b[0m\u001b[0m\n\u001b[0;32m    281\u001b[0m         \u001b[0marrs\u001b[0m \u001b[1;33m=\u001b[0m \u001b[1;33m[\u001b[0m\u001b[0marrs\u001b[0m\u001b[1;33m]\u001b[0m\u001b[1;33m\u001b[0m\u001b[1;33m\u001b[0m\u001b[0m\n\u001b[1;32m--> 282\u001b[1;33m     \u001b[1;32mreturn\u001b[0m \u001b[0m_nx\u001b[0m\u001b[1;33m.\u001b[0m\u001b[0mconcatenate\u001b[0m\u001b[1;33m(\u001b[0m\u001b[0marrs\u001b[0m\u001b[1;33m,\u001b[0m \u001b[1;36m0\u001b[0m\u001b[1;33m)\u001b[0m\u001b[1;33m\u001b[0m\u001b[1;33m\u001b[0m\u001b[0m\n\u001b[0m\u001b[0;32m    283\u001b[0m \u001b[1;33m\u001b[0m\u001b[0m\n\u001b[0;32m    284\u001b[0m \u001b[1;33m\u001b[0m\u001b[0m\n",
      "\u001b[1;32m<__array_function__ internals>\u001b[0m in \u001b[0;36mconcatenate\u001b[1;34m(*args, **kwargs)\u001b[0m\n",
      "\u001b[1;31mValueError\u001b[0m: all the input array dimensions for the concatenation axis must match exactly, but along dimension 1, the array at index 0 has size 3 and the array at index 1 has size 4"
     ]
    }
   ],
   "source": [
    "# stack the arrays vertically\n",
    "vertical_stack = np.vstack((arr1, arr2))\n",
    "print(\"Array 1:\\n\", arr1)\n",
    "print(\"Array 2:\\n\", arr2)\n",
    "print(\"Vertically stacked array:\\n\", vertical_stack)\n",
    "# Two arrays of dimensions (2,3) adn (2,4) cannot be vertically stacked on\n",
    "#top of each other as they dont have the same number of coloumns"
   ]
  },
  {
   "cell_type": "markdown",
   "id": "aa27ff6d",
   "metadata": {},
   "source": [
    "### Q-6 You have an array of shape (4, 4). Using NumPy, split it into four equal parts."
   ]
  },
  {
   "cell_type": "code",
   "execution_count": null,
   "id": "d2cf23f6",
   "metadata": {
    "scrolled": true
   },
   "outputs": [
    {
     "name": "stdout",
     "output_type": "stream",
     "text": [
      "Original array:\n",
      " [[ 1  2  3  4]\n",
      " [ 5  6  7  8]\n",
      " [ 9 10 11 12]\n",
      " [13 14 15 16]]\n",
      "Split array 1 :\n",
      " [[1 2]\n",
      " [5 6]]\n",
      "Split array 2 :\n",
      " [[3 4]\n",
      " [7 8]]\n",
      "Split array 3 :\n",
      " [[ 9 10]\n",
      " [13 14]]\n",
      "Split array 4 :\n",
      " [[11 12]\n",
      " [15 16]]\n"
     ]
    }
   ],
   "source": [
    "import numpy as np\n",
    "\n",
    "arr = np.array([[1, 2, 3, 4], [5, 6, 7, 8], [9, 10, 11, 12], [13, 14, 15, 16]])\n",
    "\n",
    "# split the array into 4 equal parts\n",
    "split_arr = np.split(arr, 2)\n",
    "split_arr = [np.split(sub_arr, 2, axis=1) for sub_arr in split_arr]\n",
    "split_arr = [elem for sublist in split_arr for elem in sublist]\n",
    "\n",
    "print(\"Original array:\\n\", arr)\n",
    "for i, sub_arr in enumerate(split_arr):\n",
    "    print(\"Split array\", i+1, \":\\n\", sub_arr)"
   ]
  },
  {
   "cell_type": "markdown",
   "id": "e8b6822c",
   "metadata": {},
   "source": [
    "### Q-7 You are given an array of numbers. Using NumPy, calculate the exponential of each element in\n",
    "### the array. "
   ]
  },
  {
   "cell_type": "code",
   "execution_count": null,
   "id": "d8dfe641",
   "metadata": {},
   "outputs": [
    {
     "name": "stdout",
     "output_type": "stream",
     "text": [
      "Original array: [1 2 3 4 5]\n",
      "Exponential array: [  2.71828183   7.3890561   20.08553692  54.59815003 148.4131591 ]\n"
     ]
    }
   ],
   "source": [
    "import numpy as np\n",
    "\n",
    "arr = np.array([1, 2, 3, 4, 5])\n",
    "\n",
    "# calculate the exponential of each element\n",
    "exp_arr = np.exp(arr)\n",
    "\n",
    "print(\"Original array:\", arr)\n",
    "print(\"Exponential array:\", exp_arr)"
   ]
  },
  {
   "cell_type": "markdown",
   "id": "776fac32",
   "metadata": {},
   "source": [
    "### Q-8 You have two arrays of equal length. Using NumPy, perform element-wise addition, subtraction,\n",
    "### multiplication and division on these arrays. "
   ]
  },
  {
   "cell_type": "code",
   "execution_count": null,
   "id": "1077ea4e",
   "metadata": {},
   "outputs": [
    {
     "name": "stdout",
     "output_type": "stream",
     "text": [
      "Array 1: [1 2 3 4 5]\n",
      "Array 2: [ 2  4  6  8 10]\n",
      "Addition: [ 3  6  9 12 15]\n",
      "Subtraction: [-1 -2 -3 -4 -5]\n",
      "Multiplication: [ 2  8 18 32 50]\n",
      "Division: [0.5 0.5 0.5 0.5 0.5]\n"
     ]
    }
   ],
   "source": [
    "import numpy as np\n",
    "\n",
    "arr1 = np.array([1, 2, 3, 4, 5])\n",
    "arr2 = np.array([2, 4, 6, 8, 10])\n",
    "\n",
    "# perform element-wise arithmetic operations\n",
    "add_arr = arr1 + arr2\n",
    "sub_arr = arr1 - arr2\n",
    "mul_arr = arr1 * arr2\n",
    "div_arr = arr1 / arr2\n",
    "\n",
    "print(\"Array 1:\", arr1)\n",
    "print(\"Array 2:\", arr2)\n",
    "print(\"Addition:\", add_arr)\n",
    "print(\"Subtraction:\", sub_arr)\n",
    "print(\"Multiplication:\", mul_arr)\n",
    "print(\"Division:\", div_arr)"
   ]
  },
  {
   "cell_type": "markdown",
   "id": "1a87cf31",
   "metadata": {},
   "source": [
    "### Q-9 You have two arrays of shape (2, 2). Using NumPy, calculate the determinant of the product of\n",
    "### these two arrays."
   ]
  },
  {
   "cell_type": "code",
   "execution_count": null,
   "id": "f0dcc979",
   "metadata": {
    "scrolled": true
   },
   "outputs": [
    {
     "name": "stdout",
     "output_type": "stream",
     "text": [
      "Array 1:\n",
      " [[1 2]\n",
      " [3 4]]\n",
      "Array 2:\n",
      " [[5 6]\n",
      " [7 8]]\n",
      "Product:\n",
      " [[19 22]\n",
      " [43 50]]\n",
      "Determinant of product: 4.000000000000008\n"
     ]
    }
   ],
   "source": [
    "import numpy as np\n",
    "\n",
    "arr1 = np.array([[1, 2], [3, 4]])\n",
    "arr2 = np.array([[5, 6], [7, 8]])\n",
    "\n",
    "# calculate the product of the two arrays\n",
    "product = np.dot(arr1, arr2)\n",
    "\n",
    "# calculate the determinant of the product\n",
    "determinant = np.linalg.det(product)\n",
    "\n",
    "print(\"Array 1:\\n\", arr1)\n",
    "print(\"Array 2:\\n\", arr2)\n",
    "print(\"Product:\\n\", product)\n",
    "print(\"Determinant of product:\", determinant)"
   ]
  },
  {
   "cell_type": "markdown",
   "id": "71052da4",
   "metadata": {},
   "source": [
    "### Q-10  You are given a list of names and their corresponding ages. Using Pandas, create a series of these\n",
    "### data."
   ]
  },
  {
   "cell_type": "code",
   "execution_count": null,
   "id": "e2876348",
   "metadata": {},
   "outputs": [
    {
     "name": "stdout",
     "output_type": "stream",
     "text": [
      "Alice      25\n",
      "Bob        30\n",
      "Charlie    35\n",
      "David      40\n",
      "dtype: int64\n"
     ]
    }
   ],
   "source": [
    "import pandas as pd\n",
    "\n",
    "names = [\"Alice\", \"Bob\", \"Charlie\", \"David\"]\n",
    "ages = [25, 30, 35, 40]\n",
    "\n",
    "# create a Pandas Series from the list of names and ages\n",
    "series = pd.Series(ages, index=names)\n",
    "\n",
    "print(series)"
   ]
  },
  {
   "cell_type": "markdown",
   "id": "95f6ce25",
   "metadata": {},
   "source": [
    "### Q-11 You have a data frame containing the names, ages and grades of students. Using indexing and\n",
    "### selection operations, extract the grades of students who are above 18 years old."
   ]
  },
  {
   "cell_type": "code",
   "execution_count": null,
   "id": "2838f0d0",
   "metadata": {},
   "outputs": [
    {
     "name": "stdout",
     "output_type": "stream",
     "text": [
      "0    90\n",
      "1    85\n",
      "3    95\n",
      "Name: Grade, dtype: int64\n"
     ]
    }
   ],
   "source": [
    "import pandas as pd\n",
    "\n",
    "data = {\"Name\": [\"Alice\", \"Bob\", \"Charlie\", \"David\"],\n",
    "        \"Age\": [25, 30, 17, 40],\n",
    "        \"Grade\": [90, 85, 75, 95]}\n",
    "df = pd.DataFrame(data)\n",
    "\n",
    "# extract the grades of students who are above 18 years old\n",
    "grades_above_18 = df.loc[df[\"Age\"] > 18, \"Grade\"]\n",
    "\n",
    "print(grades_above_18)"
   ]
  },
  {
   "cell_type": "markdown",
   "id": "0ecaa37f",
   "metadata": {},
   "source": [
    "### Q-12 You have two data frames containing the names and grades of students from two different\n",
    "### classes. Using Pandas, merge these data frames on the basis of the names of the students."
   ]
  },
  {
   "cell_type": "code",
   "execution_count": null,
   "id": "c83df7ac",
   "metadata": {},
   "outputs": [
    {
     "name": "stdout",
     "output_type": "stream",
     "text": [
      "    Name  Grade_class1  Grade_class2\n",
      "0  Alice            90            80\n",
      "1    Bob            85            70\n"
     ]
    }
   ],
   "source": [
    "import pandas as pd\n",
    "\n",
    "data1 = {\"Name\": [\"Alice\", \"Bob\", \"Charlie\", \"David\"],\n",
    "         \"Grade\": [90, 85, 75, 95]}\n",
    "df1 = pd.DataFrame(data1)\n",
    "\n",
    "data2 = {\"Name\": [\"Alice\", \"Bob\", \"Eve\", \"Frank\"],\n",
    "         \"Grade\": [80, 70, 65, 75]}\n",
    "df2 = pd.DataFrame(data2)\n",
    "\n",
    "merged_df = pd.merge(df1, df2, on=\"Name\", suffixes=(\"_class1\", \"_class2\"))\n",
    "\n",
    "print(merged_df)"
   ]
  },
  {
   "cell_type": "markdown",
   "id": "3698ebde",
   "metadata": {},
   "source": [
    " ###   Q-13 You have a data frame containing the names and ages of students from one class. Using Pandas,\n",
    "### append the data frame with the names and ages of students from another class. "
   ]
  },
  {
   "cell_type": "code",
   "execution_count": 1,
   "id": "565b26f3",
   "metadata": {},
   "outputs": [
    {
     "name": "stdout",
     "output_type": "stream",
     "text": [
      "      Name  Age\n",
      "0    Alice   20\n",
      "1      Bob   18\n",
      "2  Charlie   19\n",
      "3    David   21\n",
      "4      Eve   22\n",
      "5    Frank   20\n"
     ]
    }
   ],
   "source": [
    "import pandas as pd\n",
    "\n",
    "data1 = {\"Name\": [\"Alice\", \"Bob\", \"Charlie\"],\n",
    "         \"Age\": [20, 18, 19]}\n",
    "df1 = pd.DataFrame(data1)\n",
    "\n",
    "data2 = {\"Name\": [\"David\", \"Eve\", \"Frank\"],\n",
    "         \"Age\": [21, 22, 20]}\n",
    "df2 = pd.DataFrame(data2)\n",
    "\n",
    "appended_df = pd.concat([df1, df2], ignore_index=True)\n",
    "\n",
    "print(appended_df)\n"
   ]
  }
 ],
 "metadata": {
  "kernelspec": {
   "display_name": "Python 3 (ipykernel)",
   "language": "python",
   "name": "python3"
  },
  "language_info": {
   "codemirror_mode": {
    "name": "ipython",
    "version": 3
   },
   "file_extension": ".py",
   "mimetype": "text/x-python",
   "name": "python",
   "nbconvert_exporter": "python",
   "pygments_lexer": "ipython3",
   "version": "3.9.13"
  }
 },
 "nbformat": 4,
 "nbformat_minor": 5
}
