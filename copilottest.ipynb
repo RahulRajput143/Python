{
 "cells": [
  {
   "cell_type": "code",
   "execution_count": 1,
   "metadata": {},
   "outputs": [],
   "source": [
    "#takes two numbers as input and returns their squares respectively\n",
    "def square(x):\n",
    "    return x**2\n",
    "def square2(y):\n",
    "    return y**2\n",
    "#takes two numbers as input and returns their cubes respectively\n",
    "def cube(x):\n",
    "    return x**3\n",
    "def cube2(y):\n",
    "    return y**3\n",
    "#takes two numbers as input and returns their fourth power respectively\n",
    "def fourth(x):\n",
    "    return x**4\n",
    "def fourth2(y):\n",
    "    return y**4\n",
    "\n",
    "     "
   ]
  }
 ],
 "metadata": {
  "kernelspec": {
   "display_name": "Python 3",
   "language": "python",
   "name": "python3"
  },
  "language_info": {
   "codemirror_mode": {
    "name": "ipython",
    "version": 3
   },
   "file_extension": ".py",
   "mimetype": "text/x-python",
   "name": "python",
   "nbconvert_exporter": "python",
   "pygments_lexer": "ipython3",
   "version": "3.9.13"
  },
  "orig_nbformat": 4
 },
 "nbformat": 4,
 "nbformat_minor": 2
}
