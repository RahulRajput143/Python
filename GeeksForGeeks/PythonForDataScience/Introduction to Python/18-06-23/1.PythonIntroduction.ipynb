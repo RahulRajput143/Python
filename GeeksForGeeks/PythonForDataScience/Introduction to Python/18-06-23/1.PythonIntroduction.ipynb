{
 "cells": [
  {
   "attachments": {},
   "cell_type": "markdown",
   "metadata": {},
   "source": [
    "# Python Introduction\n",
    "- `Released in 1991 and older than Java.`\n",
    "- Very simple syntax.\n",
    "- It is an interpreted language, which means that the code you write gets executed immediately as soon as it's written (unlike compiled languages\n",
    ").\n",
    "- `Django is a framework in python that can we used to do web development.`\n",
    "- Python is a general purpose language, which means that it can be used to build almost anything.\n",
    "- Python is a scripting language, which means that it can be used to write small programs or scripts to automate simple tasks.\n",
    "- `Python is a high level language, which means that it is very easy to read and write as compared to other languages.`\n",
    "- Python is an object oriented language, which means that it can be used to write large programs or applications.\n",
    "- Python is an interpreted language, which means that it does not need to be compiled before it is run.\n",
    "- `Python is a dynamically typed language, which means that you don't need to declare the type of variables while declaring them. The type will be inferred at runtime.`\n",
    "- `Python is a portable language, which means that you can write code in python on one operating system and run it on another operating system without making any changes to the code.`\n",
    "- Python is a beginner friendly language, which means that it is very easy to get started with python.\n",
    "- `Python supports a multiparadigm style of implementation which means that if has all the properties of different different programming languages like Procedural style programming from C, OOP from java or Functional Programming like lisp.`\n"
   ]
  }
 ],
 "metadata": {
  "language_info": {
   "name": "python"
  },
  "orig_nbformat": 4
 },
 "nbformat": 4,
 "nbformat_minor": 2
}
