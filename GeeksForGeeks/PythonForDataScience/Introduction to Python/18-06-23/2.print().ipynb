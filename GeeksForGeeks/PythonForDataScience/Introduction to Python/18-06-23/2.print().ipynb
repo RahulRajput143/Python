{
 "cells": [
  {
   "attachments": {},
   "cell_type": "markdown",
   "metadata": {},
   "source": [
    "# Print in Python"
   ]
  },
  {
   "attachments": {},
   "cell_type": "markdown",
   "metadata": {},
   "source": [
    "`The print statement in python helps us to print anything on the console or as an output we provide within the function paranthesis.`"
   ]
  },
  {
   "cell_type": "code",
   "execution_count": 1,
   "metadata": {},
   "outputs": [
    {
     "name": "stdout",
     "output_type": "stream",
     "text": [
      "Rahul Jodd\n"
     ]
    }
   ],
   "source": [
    "print(\"Rahul Jodd\")"
   ]
  },
  {
   "attachments": {},
   "cell_type": "markdown",
   "metadata": {},
   "source": [
    "`The print statement has some parameters that helps us to modify the end charater and the print seperator accordingly`\n",
    "- The default value of the end parameter in the print function is set to \\n which is it prints a newline charater everytime at the end of each print statement.\n",
    "- The default seperator value is set to \" \" which can be modified using the sep parameter."
   ]
  },
  {
   "cell_type": "code",
   "execution_count": 3,
   "metadata": {},
   "outputs": [
    {
     "name": "stdout",
     "output_type": "stream",
     "text": [
      "rahul 10 sarthak\n",
      "harshit\n"
     ]
    }
   ],
   "source": [
    "print(\"rahul\",10,\"sarthak\")\n",
    "print(\"harshit\")"
   ]
  },
  {
   "attachments": {},
   "cell_type": "markdown",
   "metadata": {},
   "source": [
    "- Now if we can try to modify the values of these parameters according to us."
   ]
  },
  {
   "cell_type": "code",
   "execution_count": 7,
   "metadata": {},
   "outputs": [
    {
     "name": "stdout",
     "output_type": "stream",
     "text": [
      "18-06-2003 Harshit\n",
      "Now because we didnt change the end value at the end of print harshit we are in a new line now \n"
     ]
    }
   ],
   "source": [
    "print(\"18\",\"06\",\"2003\",sep=\"-\",end=\" \")\n",
    "print(\"Harshit\")\n",
    "print(\"Now because we didnt change the end value at the end of print harshit we are in a new line now \")"
   ]
  }
 ],
 "metadata": {
  "kernelspec": {
   "display_name": "Python 3",
   "language": "python",
   "name": "python3"
  },
  "language_info": {
   "codemirror_mode": {
    "name": "ipython",
    "version": 3
   },
   "file_extension": ".py",
   "mimetype": "text/x-python",
   "name": "python",
   "nbconvert_exporter": "python",
   "pygments_lexer": "ipython3",
   "version": "3.9.13"
  },
  "orig_nbformat": 4
 },
 "nbformat": 4,
 "nbformat_minor": 2
}
