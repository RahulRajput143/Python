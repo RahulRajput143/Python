{
 "cells": [
  {
   "attachments": {},
   "cell_type": "markdown",
   "metadata": {},
   "source": [
    "# Variables in Python"
   ]
  },
  {
   "attachments": {},
   "cell_type": "markdown",
   "metadata": {},
   "source": [
    "- `In python vairables are dynamic unlike of java and c++ as you dont have to assign the type of data you want to store in a variable.`\n",
    "- You can assign any type of data to a variable and it will be stored in the memory.\n",
    "- `You can also change the type of data stored in a variable.`\n",
    "- You can also assign multiple values to a variable.\n",
    "- `When data is stored in a variable, it doesnt store the actual assigned value it is a reference to that data stored in the memory.`\n",
    "- You can also assign multiple values to multiple variables in a single line.\n",
    "- `Two variables can store the same value and they will be pointing to the same memory block.`"
   ]
  },
  {
   "attachments": {},
   "cell_type": "markdown",
   "metadata": {},
   "source": [
    "# Variables Types"
   ]
  },
  {
   "attachments": {},
   "cell_type": "markdown",
   "metadata": {},
   "source": [
    "- `There are 5 types of variables in python.`\n",
    "- `1. Numbers`\n",
    "- `2. String`\n",
    "- `3. List`\n",
    "- `4. Tuple`\n",
    "- `5. Dictionary`\n",
    "\n"
   ]
  },
  {
   "attachments": {},
   "cell_type": "markdown",
   "metadata": {},
   "source": [
    "# Variable Format"
   ]
  },
  {
   "attachments": {},
   "cell_type": "markdown",
   "metadata": {},
   "source": [
    "- The format of defining a variable in Python is:\n",
    "- `variable_name = value`\n",
    "- The variable cannot start with a number.\n",
    "- The variable can start with an underscore.\n",
    "- The variable can start with an alphabet.\n",
    "- The variable can start with a special character."
   ]
  },
  {
   "cell_type": "code",
   "execution_count": 1,
   "metadata": {},
   "outputs": [
    {
     "name": "stdout",
     "output_type": "stream",
     "text": [
      "rahul\n"
     ]
    }
   ],
   "source": [
    "My_Variable=\"rahul\"\n",
    "print(My_Variable)"
   ]
  },
  {
   "attachments": {},
   "cell_type": "markdown",
   "metadata": {},
   "source": [
    "- When we try to print a variable in python that is not assigned any value we get an error\n",
    "- `NameError: name 'rahul' is not defined`"
   ]
  },
  {
   "cell_type": "code",
   "execution_count": 2,
   "metadata": {},
   "outputs": [
    {
     "ename": "NameError",
     "evalue": "name 'rahul' is not defined",
     "output_type": "error",
     "traceback": [
      "\u001b[1;31m---------------------------------------------------------------------------\u001b[0m",
      "\u001b[1;31mNameError\u001b[0m                                 Traceback (most recent call last)",
      "Cell \u001b[1;32mIn[2], line 1\u001b[0m\n\u001b[1;32m----> 1\u001b[0m \u001b[39mprint\u001b[39m(rahul)\n",
      "\u001b[1;31mNameError\u001b[0m: name 'rahul' is not defined"
     ]
    }
   ],
   "source": [
    "print(rahul)"
   ]
  },
  {
   "attachments": {},
   "cell_type": "markdown",
   "metadata": {},
   "source": [
    "- We can also Assign None value to a variable.\n",
    "- `None is a special type of data type in python which means nothing.`"
   ]
  },
  {
   "cell_type": "code",
   "execution_count": 4,
   "metadata": {},
   "outputs": [
    {
     "name": "stdout",
     "output_type": "stream",
     "text": [
      "None\n"
     ]
    }
   ],
   "source": [
    "rahul1=None\n",
    "print(rahul1)"
   ]
  }
 ],
 "metadata": {
  "kernelspec": {
   "display_name": "Python 3",
   "language": "python",
   "name": "python3"
  },
  "language_info": {
   "codemirror_mode": {
    "name": "ipython",
    "version": 3
   },
   "file_extension": ".py",
   "mimetype": "text/x-python",
   "name": "python",
   "nbconvert_exporter": "python",
   "pygments_lexer": "ipython3",
   "version": "3.9.13"
  },
  "orig_nbformat": 4
 },
 "nbformat": 4,
 "nbformat_minor": 2
}
