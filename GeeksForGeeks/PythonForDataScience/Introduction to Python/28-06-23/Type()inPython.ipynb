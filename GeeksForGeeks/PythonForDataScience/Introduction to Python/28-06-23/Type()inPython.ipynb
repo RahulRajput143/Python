{
 "cells": [
  {
   "attachments": {},
   "cell_type": "markdown",
   "metadata": {},
   "source": [
    "# Type() In Python"
   ]
  },
  {
   "attachments": {},
   "cell_type": "markdown",
   "metadata": {},
   "source": [
    "- `The type function in python is used to tell us the datatype attached to the variable`\n",
    "- We can use it on any data, not just strings.  Try running this code\n",
    "- The type function is very useful when we are working with data.  We can use it to check the datatype of a variable, and then use that information to decide what to do with it."
   ]
  },
  {
   "attachments": {},
   "cell_type": "markdown",
   "metadata": {},
   "source": [
    "- The different datatypes in python are-"
   ]
  },
  {
   "attachments": {},
   "cell_type": "markdown",
   "metadata": {},
   "source": [
    "Different data types in python are\n",
    ":\n",
    "1. Intergers\n",
    "2. String\n",
    "3. List\n",
    "4. Tuple\n",
    "5. Dictionary\n",
    "6. Set\n",
    "7. Boolean\n",
    "8. None\n",
    "9. Floats\n",
    "10. Complex\n",
    "\n"
   ]
  },
  {
   "cell_type": "code",
   "execution_count": 1,
   "metadata": {},
   "outputs": [
    {
     "name": "stdout",
     "output_type": "stream",
     "text": [
      "<class 'int'>\n",
      "<class 'float'>\n",
      "<class 'complex'>\n",
      "<class 'str'>\n",
      "<class 'list'>\n",
      "<class 'tuple'>\n",
      "<class 'set'>\n",
      "<class 'dict'>\n",
      "<class 'bool'>\n",
      "<class 'dict'>\n",
      "<class 'dict'>\n",
      "<class 'dict'>\n",
      "<class 'dict'>\n",
      "<class 'tuple'>\n",
      "<class 'tuple'>\n",
      "<class 'tuple'>\n",
      "<class 'NoneType'>\n"
     ]
    }
   ],
   "source": [
    "x=10\n",
    "print(type(x))\n",
    "x=3.14\n",
    "print(type(x))\n",
    "x=1+2j\n",
    "print(type(x))\n",
    "x=\"GeeksForGeeks\"\n",
    "print(type(x))\n",
    "x=[1,2,3,4]\n",
    "print(type(x))\n",
    "x=(1,2,3,4)\n",
    "print(type(x))\n",
    "x={1,2,3,4}\n",
    "print(type(x))\n",
    "x={1:2,3:4}\n",
    "print(type(x))\n",
    "x=True\n",
    "print(type(x))\n",
    "x={\"name\":\"<NAME>\",\"age\": 56,\"salary\":9876}\n",
    "print(type(x))\n",
    "x={'a':[1,2],'b':'geeks'}\n",
    "print(type(x))\n",
    "x = {'a':{'b':['c','d']}}\n",
    "print(type(x))\n",
    "x = {('a', 'b'): ('c', 'd')}\n",
    "print(type(x))\n",
    "x = (1,) #tuple with one element\n",
    "print(type(x))\n",
    "x = 1, #tuple with one element\n",
    "print(type(x))\n",
    "x = 1,2,3,4,5,6,7,8,9,10 #tuple with multiple elements\n",
    "print(type(x))\n",
    "x = None\n",
    "print(type(x))\n",
    "\n",
    "\n"
   ]
  }
 ],
 "metadata": {
  "kernelspec": {
   "display_name": "Python 3",
   "language": "python",
   "name": "python3"
  },
  "language_info": {
   "codemirror_mode": {
    "name": "ipython",
    "version": 3
   },
   "file_extension": ".py",
   "mimetype": "text/x-python",
   "name": "python",
   "nbconvert_exporter": "python",
   "pygments_lexer": "ipython3",
   "version": "3.9.13"
  },
  "orig_nbformat": 4
 },
 "nbformat": 4,
 "nbformat_minor": 2
}
